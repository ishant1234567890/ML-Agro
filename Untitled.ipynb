{
 "cells": [
  {
   "cell_type": "code",
   "execution_count": 4,
   "id": "3ef28334-f0d9-4063-bb9c-ebfee862be1a",
   "metadata": {},
   "outputs": [],
   "source": [
    "import pandas as pd \n",
    "import numpy as np\n",
    "from sklearn.linear_model import LinearRegression\n",
    "from sklearn.model_selection import train_test_split"
   ]
  },
  {
   "cell_type": "code",
   "execution_count": 5,
   "id": "807b0b0a-39ce-4f41-8e8b-7adedb1488bd",
   "metadata": {},
   "outputs": [],
   "source": [
    "dataset = pd.read_csv('Smart_Farming_Crop_Yield_2024.csv')"
   ]
  },
  {
   "cell_type": "code",
   "execution_count": 6,
   "id": "00812ad3-5302-47d5-b0fb-51abdeeea0dd",
   "metadata": {},
   "outputs": [
    {
     "name": "stdout",
     "output_type": "stream",
     "text": [
      "<class 'pandas.core.frame.DataFrame'>\n",
      "RangeIndex: 500 entries, 0 to 499\n",
      "Data columns (total 22 columns):\n",
      " #   Column                Non-Null Count  Dtype  \n",
      "---  ------                --------------  -----  \n",
      " 0   farm_id               500 non-null    object \n",
      " 1   region                500 non-null    object \n",
      " 2   crop_type             500 non-null    object \n",
      " 3   soil_moisture_%       500 non-null    float64\n",
      " 4   soil_pH               500 non-null    float64\n",
      " 5   temperature_C         500 non-null    float64\n",
      " 6   rainfall_mm           500 non-null    float64\n",
      " 7   humidity_%            500 non-null    float64\n",
      " 8   sunlight_hours        500 non-null    float64\n",
      " 9   irrigation_type       350 non-null    object \n",
      " 10  fertilizer_type       500 non-null    object \n",
      " 11  pesticide_usage_ml    500 non-null    float64\n",
      " 12  sowing_date           500 non-null    object \n",
      " 13  harvest_date          500 non-null    object \n",
      " 14  total_days            500 non-null    int64  \n",
      " 15  yield_kg_per_hectare  500 non-null    float64\n",
      " 16  sensor_id             500 non-null    object \n",
      " 17  timestamp             500 non-null    object \n",
      " 18  latitude              500 non-null    float64\n",
      " 19  longitude             500 non-null    float64\n",
      " 20  NDVI_index            500 non-null    float64\n",
      " 21  crop_disease_status   370 non-null    object \n",
      "dtypes: float64(11), int64(1), object(10)\n",
      "memory usage: 86.1+ KB\n"
     ]
    }
   ],
   "source": [
    "dataset.info()"
   ]
  },
  {
   "cell_type": "code",
   "execution_count": 7,
   "id": "07d27b39-350f-49e4-a9c4-4a40426ebf15",
   "metadata": {},
   "outputs": [
    {
     "data": {
      "text/plain": [
       "array(['Wheat', 'Soybean', 'Maize', 'Cotton', 'Rice'], dtype=object)"
      ]
     },
     "execution_count": 7,
     "metadata": {},
     "output_type": "execute_result"
    }
   ],
   "source": [
    "dataset['crop_type'].unique()"
   ]
  },
  {
   "cell_type": "code",
   "execution_count": 8,
   "id": "8dfc666a-d6a1-43ed-9fdc-0c095039414d",
   "metadata": {},
   "outputs": [
    {
     "name": "stdout",
     "output_type": "stream",
     "text": [
      "Wheat : Drip\n",
      "Soybean : Manual\n",
      "Maize : Sprinkler\n",
      "Cotton : Drip\n",
      "Rice : Sprinkler\n"
     ]
    }
   ],
   "source": [
    "for i in dataset['crop_type'].unique():\n",
    "    cash = dataset[dataset['crop_type'] == i]['irrigation_type'].mode()[0]\n",
    "    dataset[\"n_irrigation_type\"] = dataset[dataset['crop_type'] == i]['irrigation_type'].fillna(cash)\n",
    "    print(i +\" : \"+ cash)"
   ]
  },
  {
   "cell_type": "code",
   "execution_count": 9,
   "id": "c0f5630b-8f8c-450f-a965-0d327e23e621",
   "metadata": {},
   "outputs": [
    {
     "data": {
      "text/html": [
       "<div>\n",
       "<style scoped>\n",
       "    .dataframe tbody tr th:only-of-type {\n",
       "        vertical-align: middle;\n",
       "    }\n",
       "\n",
       "    .dataframe tbody tr th {\n",
       "        vertical-align: top;\n",
       "    }\n",
       "\n",
       "    .dataframe thead th {\n",
       "        text-align: right;\n",
       "    }\n",
       "</style>\n",
       "<table border=\"1\" class=\"dataframe\">\n",
       "  <thead>\n",
       "    <tr style=\"text-align: right;\">\n",
       "      <th></th>\n",
       "      <th>farm_id</th>\n",
       "      <th>region</th>\n",
       "      <th>crop_type</th>\n",
       "      <th>soil_moisture_%</th>\n",
       "      <th>soil_pH</th>\n",
       "      <th>temperature_C</th>\n",
       "      <th>rainfall_mm</th>\n",
       "      <th>humidity_%</th>\n",
       "      <th>sunlight_hours</th>\n",
       "      <th>irrigation_type</th>\n",
       "      <th>...</th>\n",
       "      <th>sowing_date</th>\n",
       "      <th>harvest_date</th>\n",
       "      <th>total_days</th>\n",
       "      <th>yield_kg_per_hectare</th>\n",
       "      <th>sensor_id</th>\n",
       "      <th>timestamp</th>\n",
       "      <th>latitude</th>\n",
       "      <th>longitude</th>\n",
       "      <th>NDVI_index</th>\n",
       "      <th>crop_disease_status</th>\n",
       "    </tr>\n",
       "  </thead>\n",
       "  <tbody>\n",
       "    <tr>\n",
       "      <th>0</th>\n",
       "      <td>FARM0001</td>\n",
       "      <td>North India</td>\n",
       "      <td>Wheat</td>\n",
       "      <td>35.95</td>\n",
       "      <td>5.99</td>\n",
       "      <td>17.79</td>\n",
       "      <td>75.62</td>\n",
       "      <td>77.03</td>\n",
       "      <td>7.27</td>\n",
       "      <td>NaN</td>\n",
       "      <td>...</td>\n",
       "      <td>2024-01-08</td>\n",
       "      <td>2024-05-09</td>\n",
       "      <td>122</td>\n",
       "      <td>4408.07</td>\n",
       "      <td>SENS0001</td>\n",
       "      <td>2024-03-19</td>\n",
       "      <td>14.970941</td>\n",
       "      <td>82.997689</td>\n",
       "      <td>0.63</td>\n",
       "      <td>Mild</td>\n",
       "    </tr>\n",
       "    <tr>\n",
       "      <th>1</th>\n",
       "      <td>FARM0002</td>\n",
       "      <td>South USA</td>\n",
       "      <td>Soybean</td>\n",
       "      <td>19.74</td>\n",
       "      <td>7.24</td>\n",
       "      <td>30.18</td>\n",
       "      <td>89.91</td>\n",
       "      <td>61.13</td>\n",
       "      <td>5.67</td>\n",
       "      <td>Sprinkler</td>\n",
       "      <td>...</td>\n",
       "      <td>2024-02-04</td>\n",
       "      <td>2024-05-26</td>\n",
       "      <td>112</td>\n",
       "      <td>5389.98</td>\n",
       "      <td>SENS0002</td>\n",
       "      <td>2024-04-21</td>\n",
       "      <td>16.613022</td>\n",
       "      <td>70.869009</td>\n",
       "      <td>0.58</td>\n",
       "      <td>NaN</td>\n",
       "    </tr>\n",
       "    <tr>\n",
       "      <th>2</th>\n",
       "      <td>FARM0003</td>\n",
       "      <td>South USA</td>\n",
       "      <td>Wheat</td>\n",
       "      <td>29.32</td>\n",
       "      <td>7.16</td>\n",
       "      <td>27.37</td>\n",
       "      <td>265.43</td>\n",
       "      <td>68.87</td>\n",
       "      <td>8.23</td>\n",
       "      <td>Drip</td>\n",
       "      <td>...</td>\n",
       "      <td>2024-02-03</td>\n",
       "      <td>2024-06-26</td>\n",
       "      <td>144</td>\n",
       "      <td>2931.16</td>\n",
       "      <td>SENS0003</td>\n",
       "      <td>2024-02-28</td>\n",
       "      <td>19.503156</td>\n",
       "      <td>79.068206</td>\n",
       "      <td>0.80</td>\n",
       "      <td>Mild</td>\n",
       "    </tr>\n",
       "    <tr>\n",
       "      <th>3</th>\n",
       "      <td>FARM0004</td>\n",
       "      <td>Central USA</td>\n",
       "      <td>Maize</td>\n",
       "      <td>17.33</td>\n",
       "      <td>6.03</td>\n",
       "      <td>33.73</td>\n",
       "      <td>212.01</td>\n",
       "      <td>70.46</td>\n",
       "      <td>5.03</td>\n",
       "      <td>Sprinkler</td>\n",
       "      <td>...</td>\n",
       "      <td>2024-02-21</td>\n",
       "      <td>2024-07-04</td>\n",
       "      <td>134</td>\n",
       "      <td>4227.80</td>\n",
       "      <td>SENS0004</td>\n",
       "      <td>2024-05-14</td>\n",
       "      <td>31.071298</td>\n",
       "      <td>85.519998</td>\n",
       "      <td>0.44</td>\n",
       "      <td>NaN</td>\n",
       "    </tr>\n",
       "    <tr>\n",
       "      <th>4</th>\n",
       "      <td>FARM0005</td>\n",
       "      <td>Central USA</td>\n",
       "      <td>Cotton</td>\n",
       "      <td>19.37</td>\n",
       "      <td>5.92</td>\n",
       "      <td>33.86</td>\n",
       "      <td>269.09</td>\n",
       "      <td>55.73</td>\n",
       "      <td>7.93</td>\n",
       "      <td>NaN</td>\n",
       "      <td>...</td>\n",
       "      <td>2024-02-05</td>\n",
       "      <td>2024-05-20</td>\n",
       "      <td>105</td>\n",
       "      <td>4979.96</td>\n",
       "      <td>SENS0005</td>\n",
       "      <td>2024-04-13</td>\n",
       "      <td>16.568540</td>\n",
       "      <td>81.691720</td>\n",
       "      <td>0.84</td>\n",
       "      <td>Severe</td>\n",
       "    </tr>\n",
       "    <tr>\n",
       "      <th>...</th>\n",
       "      <td>...</td>\n",
       "      <td>...</td>\n",
       "      <td>...</td>\n",
       "      <td>...</td>\n",
       "      <td>...</td>\n",
       "      <td>...</td>\n",
       "      <td>...</td>\n",
       "      <td>...</td>\n",
       "      <td>...</td>\n",
       "      <td>...</td>\n",
       "      <td>...</td>\n",
       "      <td>...</td>\n",
       "      <td>...</td>\n",
       "      <td>...</td>\n",
       "      <td>...</td>\n",
       "      <td>...</td>\n",
       "      <td>...</td>\n",
       "      <td>...</td>\n",
       "      <td>...</td>\n",
       "      <td>...</td>\n",
       "      <td>...</td>\n",
       "    </tr>\n",
       "    <tr>\n",
       "      <th>495</th>\n",
       "      <td>FARM0496</td>\n",
       "      <td>Central USA</td>\n",
       "      <td>Rice</td>\n",
       "      <td>42.85</td>\n",
       "      <td>6.70</td>\n",
       "      <td>30.85</td>\n",
       "      <td>52.35</td>\n",
       "      <td>79.58</td>\n",
       "      <td>7.25</td>\n",
       "      <td>Manual</td>\n",
       "      <td>...</td>\n",
       "      <td>2024-01-16</td>\n",
       "      <td>2024-06-02</td>\n",
       "      <td>138</td>\n",
       "      <td>4251.40</td>\n",
       "      <td>SENS0496</td>\n",
       "      <td>2024-05-08</td>\n",
       "      <td>30.386623</td>\n",
       "      <td>76.147700</td>\n",
       "      <td>0.59</td>\n",
       "      <td>Mild</td>\n",
       "    </tr>\n",
       "    <tr>\n",
       "      <th>496</th>\n",
       "      <td>FARM0497</td>\n",
       "      <td>North India</td>\n",
       "      <td>Soybean</td>\n",
       "      <td>34.22</td>\n",
       "      <td>6.75</td>\n",
       "      <td>17.46</td>\n",
       "      <td>256.23</td>\n",
       "      <td>45.14</td>\n",
       "      <td>5.78</td>\n",
       "      <td>NaN</td>\n",
       "      <td>...</td>\n",
       "      <td>2024-01-01</td>\n",
       "      <td>2024-04-14</td>\n",
       "      <td>104</td>\n",
       "      <td>3708.54</td>\n",
       "      <td>SENS0497</td>\n",
       "      <td>2024-01-19</td>\n",
       "      <td>18.832748</td>\n",
       "      <td>75.736924</td>\n",
       "      <td>0.85</td>\n",
       "      <td>Severe</td>\n",
       "    </tr>\n",
       "    <tr>\n",
       "      <th>497</th>\n",
       "      <td>FARM0498</td>\n",
       "      <td>North India</td>\n",
       "      <td>Cotton</td>\n",
       "      <td>15.93</td>\n",
       "      <td>5.72</td>\n",
       "      <td>17.03</td>\n",
       "      <td>288.96</td>\n",
       "      <td>57.87</td>\n",
       "      <td>7.69</td>\n",
       "      <td>Drip</td>\n",
       "      <td>...</td>\n",
       "      <td>2024-01-02</td>\n",
       "      <td>2024-05-09</td>\n",
       "      <td>128</td>\n",
       "      <td>2604.41</td>\n",
       "      <td>SENS0498</td>\n",
       "      <td>2024-04-20</td>\n",
       "      <td>23.262016</td>\n",
       "      <td>81.992230</td>\n",
       "      <td>0.71</td>\n",
       "      <td>Mild</td>\n",
       "    </tr>\n",
       "    <tr>\n",
       "      <th>498</th>\n",
       "      <td>FARM0499</td>\n",
       "      <td>Central USA</td>\n",
       "      <td>Soybean</td>\n",
       "      <td>38.61</td>\n",
       "      <td>6.20</td>\n",
       "      <td>17.08</td>\n",
       "      <td>279.06</td>\n",
       "      <td>73.09</td>\n",
       "      <td>9.60</td>\n",
       "      <td>Drip</td>\n",
       "      <td>...</td>\n",
       "      <td>2024-01-25</td>\n",
       "      <td>2024-06-04</td>\n",
       "      <td>131</td>\n",
       "      <td>2586.36</td>\n",
       "      <td>SENS0499</td>\n",
       "      <td>2024-03-02</td>\n",
       "      <td>19.764989</td>\n",
       "      <td>84.426869</td>\n",
       "      <td>0.77</td>\n",
       "      <td>Severe</td>\n",
       "    </tr>\n",
       "    <tr>\n",
       "      <th>499</th>\n",
       "      <td>FARM0500</td>\n",
       "      <td>North India</td>\n",
       "      <td>Wheat</td>\n",
       "      <td>30.22</td>\n",
       "      <td>7.42</td>\n",
       "      <td>20.57</td>\n",
       "      <td>72.61</td>\n",
       "      <td>89.74</td>\n",
       "      <td>5.09</td>\n",
       "      <td>NaN</td>\n",
       "      <td>...</td>\n",
       "      <td>2024-02-16</td>\n",
       "      <td>2024-06-29</td>\n",
       "      <td>134</td>\n",
       "      <td>5891.40</td>\n",
       "      <td>SENS0500</td>\n",
       "      <td>2024-05-11</td>\n",
       "      <td>13.455532</td>\n",
       "      <td>88.880605</td>\n",
       "      <td>0.85</td>\n",
       "      <td>Severe</td>\n",
       "    </tr>\n",
       "  </tbody>\n",
       "</table>\n",
       "<p>500 rows × 22 columns</p>\n",
       "</div>"
      ],
      "text/plain": [
       "      farm_id       region crop_type  soil_moisture_%  soil_pH  temperature_C  \\\n",
       "0    FARM0001  North India     Wheat            35.95     5.99          17.79   \n",
       "1    FARM0002    South USA   Soybean            19.74     7.24          30.18   \n",
       "2    FARM0003    South USA     Wheat            29.32     7.16          27.37   \n",
       "3    FARM0004  Central USA     Maize            17.33     6.03          33.73   \n",
       "4    FARM0005  Central USA    Cotton            19.37     5.92          33.86   \n",
       "..        ...          ...       ...              ...      ...            ...   \n",
       "495  FARM0496  Central USA      Rice            42.85     6.70          30.85   \n",
       "496  FARM0497  North India   Soybean            34.22     6.75          17.46   \n",
       "497  FARM0498  North India    Cotton            15.93     5.72          17.03   \n",
       "498  FARM0499  Central USA   Soybean            38.61     6.20          17.08   \n",
       "499  FARM0500  North India     Wheat            30.22     7.42          20.57   \n",
       "\n",
       "     rainfall_mm  humidity_%  sunlight_hours irrigation_type  ... sowing_date  \\\n",
       "0          75.62       77.03            7.27             NaN  ...  2024-01-08   \n",
       "1          89.91       61.13            5.67       Sprinkler  ...  2024-02-04   \n",
       "2         265.43       68.87            8.23            Drip  ...  2024-02-03   \n",
       "3         212.01       70.46            5.03       Sprinkler  ...  2024-02-21   \n",
       "4         269.09       55.73            7.93             NaN  ...  2024-02-05   \n",
       "..           ...         ...             ...             ...  ...         ...   \n",
       "495        52.35       79.58            7.25          Manual  ...  2024-01-16   \n",
       "496       256.23       45.14            5.78             NaN  ...  2024-01-01   \n",
       "497       288.96       57.87            7.69            Drip  ...  2024-01-02   \n",
       "498       279.06       73.09            9.60            Drip  ...  2024-01-25   \n",
       "499        72.61       89.74            5.09             NaN  ...  2024-02-16   \n",
       "\n",
       "     harvest_date total_days yield_kg_per_hectare  sensor_id   timestamp  \\\n",
       "0      2024-05-09        122              4408.07   SENS0001  2024-03-19   \n",
       "1      2024-05-26        112              5389.98   SENS0002  2024-04-21   \n",
       "2      2024-06-26        144              2931.16   SENS0003  2024-02-28   \n",
       "3      2024-07-04        134              4227.80   SENS0004  2024-05-14   \n",
       "4      2024-05-20        105              4979.96   SENS0005  2024-04-13   \n",
       "..            ...        ...                  ...        ...         ...   \n",
       "495    2024-06-02        138              4251.40   SENS0496  2024-05-08   \n",
       "496    2024-04-14        104              3708.54   SENS0497  2024-01-19   \n",
       "497    2024-05-09        128              2604.41   SENS0498  2024-04-20   \n",
       "498    2024-06-04        131              2586.36   SENS0499  2024-03-02   \n",
       "499    2024-06-29        134              5891.40   SENS0500  2024-05-11   \n",
       "\n",
       "      latitude  longitude  NDVI_index  crop_disease_status  \n",
       "0    14.970941  82.997689        0.63                 Mild  \n",
       "1    16.613022  70.869009        0.58                  NaN  \n",
       "2    19.503156  79.068206        0.80                 Mild  \n",
       "3    31.071298  85.519998        0.44                  NaN  \n",
       "4    16.568540  81.691720        0.84               Severe  \n",
       "..         ...        ...         ...                  ...  \n",
       "495  30.386623  76.147700        0.59                 Mild  \n",
       "496  18.832748  75.736924        0.85               Severe  \n",
       "497  23.262016  81.992230        0.71                 Mild  \n",
       "498  19.764989  84.426869        0.77               Severe  \n",
       "499  13.455532  88.880605        0.85               Severe  \n",
       "\n",
       "[500 rows x 22 columns]"
      ]
     },
     "execution_count": 9,
     "metadata": {},
     "output_type": "execute_result"
    }
   ],
   "source": [
    "dataset.drop(columns='n_irrigation_type')"
   ]
  },
  {
   "cell_type": "code",
   "execution_count": 10,
   "id": "6c2ca464-56f6-4c1c-9902-6be65406b55e",
   "metadata": {},
   "outputs": [
    {
     "name": "stdout",
     "output_type": "stream",
     "text": [
      "Wheat : Drip\n",
      "Soybean : Manual\n",
      "Maize : Sprinkler\n",
      "Cotton : Drip\n",
      "Rice : Sprinkler\n"
     ]
    }
   ],
   "source": [
    "for i in dataset['crop_type'].unique():\n",
    "    cash = dataset[dataset['crop_type'] ==i]['irrigation_type'].mode()[0]\n",
    "    dataset.loc[(dataset['crop_type'] == i) & (dataset['irrigation_type'].isnull()), 'irrigation_type'] = cash\n",
    "   \n",
    "    print(i +\" : \"+ cash)"
   ]
  },
  {
   "cell_type": "code",
   "execution_count": 11,
   "id": "c03a43f3-b63d-4527-ad31-a2916e6b3b49",
   "metadata": {},
   "outputs": [
    {
     "data": {
      "text/plain": [
       "np.int64(0)"
      ]
     },
     "execution_count": 11,
     "metadata": {},
     "output_type": "execute_result"
    }
   ],
   "source": [
    "dataset['irrigation_type'].isnull().sum()"
   ]
  },
  {
   "cell_type": "code",
   "execution_count": 12,
   "id": "888d2e0f-ce70-43da-82ef-0bc77e5f0ed6",
   "metadata": {},
   "outputs": [],
   "source": [
    "dataset.drop(columns='n_irrigation_type', inplace=True)"
   ]
  },
  {
   "cell_type": "code",
   "execution_count": 13,
   "id": "82a48432-e0f2-4ea9-86e5-286312759cb1",
   "metadata": {},
   "outputs": [
    {
     "data": {
      "text/plain": [
       "farm_id                   0\n",
       "region                    0\n",
       "crop_type                 0\n",
       "soil_moisture_%           0\n",
       "soil_pH                   0\n",
       "temperature_C             0\n",
       "rainfall_mm               0\n",
       "humidity_%                0\n",
       "sunlight_hours            0\n",
       "irrigation_type           0\n",
       "fertilizer_type           0\n",
       "pesticide_usage_ml        0\n",
       "sowing_date               0\n",
       "harvest_date              0\n",
       "total_days                0\n",
       "yield_kg_per_hectare      0\n",
       "sensor_id                 0\n",
       "timestamp                 0\n",
       "latitude                  0\n",
       "longitude                 0\n",
       "NDVI_index                0\n",
       "crop_disease_status     130\n",
       "dtype: int64"
      ]
     },
     "execution_count": 13,
     "metadata": {},
     "output_type": "execute_result"
    }
   ],
   "source": [
    "dataset.isnull().sum()"
   ]
  },
  {
   "cell_type": "code",
   "execution_count": 14,
   "id": "fff27773-72b1-41e9-bf0e-51c6535c95f1",
   "metadata": {},
   "outputs": [
    {
     "data": {
      "text/plain": [
       "array(['Mild', nan, 'Severe', 'Moderate'], dtype=object)"
      ]
     },
     "execution_count": 14,
     "metadata": {},
     "output_type": "execute_result"
    }
   ],
   "source": [
    "dataset['crop_disease_status'].unique()"
   ]
  },
  {
   "cell_type": "code",
   "execution_count": 16,
   "id": "aa71a984-b675-41fe-8df2-c9449003992a",
   "metadata": {},
   "outputs": [
    {
     "name": "stdout",
     "output_type": "stream",
     "text": [
      "farm_id\n",
      "region\n",
      "crop_type\n",
      "soil_moisture_%\n",
      "soil_pH\n",
      "temperature_C\n",
      "rainfall_mm\n",
      "humidity_%\n",
      "sunlight_hours\n",
      "irrigation_type\n",
      "fertilizer_type\n",
      "pesticide_usage_ml\n",
      "sowing_date\n",
      "harvest_date\n",
      "total_days\n",
      "yield_kg_per_hectare\n",
      "sensor_id\n",
      "timestamp\n",
      "latitude\n",
      "longitude\n",
      "NDVI_index\n",
      "crop_disease_status\n"
     ]
    }
   ],
   "source": [
    "for i in dataset.columns:\n",
    "    print(i)"
   ]
  },
  {
   "cell_type": "code",
   "execution_count": 17,
   "id": "ae107863-8ce9-42e6-a56d-86fab622a740",
   "metadata": {},
   "outputs": [],
   "source": [
    "import seaborn as sns \n",
    "import matplotlib.pyplot as plt "
   ]
  },
  {
   "cell_type": "code",
   "execution_count": 18,
   "id": "928e3812-b36f-470a-ba6d-6e859419b56d",
   "metadata": {},
   "outputs": [
    {
     "data": {
      "text/html": [
       "<div>\n",
       "<style scoped>\n",
       "    .dataframe tbody tr th:only-of-type {\n",
       "        vertical-align: middle;\n",
       "    }\n",
       "\n",
       "    .dataframe tbody tr th {\n",
       "        vertical-align: top;\n",
       "    }\n",
       "\n",
       "    .dataframe thead th {\n",
       "        text-align: right;\n",
       "    }\n",
       "</style>\n",
       "<table border=\"1\" class=\"dataframe\">\n",
       "  <thead>\n",
       "    <tr style=\"text-align: right;\">\n",
       "      <th></th>\n",
       "      <th>soil_moisture_%</th>\n",
       "      <th>soil_pH</th>\n",
       "      <th>temperature_C</th>\n",
       "      <th>rainfall_mm</th>\n",
       "      <th>humidity_%</th>\n",
       "      <th>sunlight_hours</th>\n",
       "      <th>pesticide_usage_ml</th>\n",
       "      <th>total_days</th>\n",
       "      <th>yield_kg_per_hectare</th>\n",
       "      <th>latitude</th>\n",
       "      <th>longitude</th>\n",
       "      <th>NDVI_index</th>\n",
       "    </tr>\n",
       "  </thead>\n",
       "  <tbody>\n",
       "    <tr>\n",
       "      <th>count</th>\n",
       "      <td>500.000000</td>\n",
       "      <td>500.000000</td>\n",
       "      <td>500.000000</td>\n",
       "      <td>500.000000</td>\n",
       "      <td>500.000000</td>\n",
       "      <td>500.00000</td>\n",
       "      <td>500.000000</td>\n",
       "      <td>500.000000</td>\n",
       "      <td>500.00000</td>\n",
       "      <td>500.000000</td>\n",
       "      <td>500.000000</td>\n",
       "      <td>500.000000</td>\n",
       "    </tr>\n",
       "    <tr>\n",
       "      <th>mean</th>\n",
       "      <td>26.750140</td>\n",
       "      <td>6.523980</td>\n",
       "      <td>24.675740</td>\n",
       "      <td>181.685740</td>\n",
       "      <td>65.194460</td>\n",
       "      <td>7.03014</td>\n",
       "      <td>26.586980</td>\n",
       "      <td>119.496000</td>\n",
       "      <td>4032.92694</td>\n",
       "      <td>22.442473</td>\n",
       "      <td>80.392248</td>\n",
       "      <td>0.602060</td>\n",
       "    </tr>\n",
       "    <tr>\n",
       "      <th>std</th>\n",
       "      <td>10.150053</td>\n",
       "      <td>0.585558</td>\n",
       "      <td>5.348899</td>\n",
       "      <td>72.293091</td>\n",
       "      <td>14.642849</td>\n",
       "      <td>1.69167</td>\n",
       "      <td>13.202429</td>\n",
       "      <td>16.798046</td>\n",
       "      <td>1174.43304</td>\n",
       "      <td>7.283492</td>\n",
       "      <td>5.910664</td>\n",
       "      <td>0.175402</td>\n",
       "    </tr>\n",
       "    <tr>\n",
       "      <th>min</th>\n",
       "      <td>10.160000</td>\n",
       "      <td>5.510000</td>\n",
       "      <td>15.000000</td>\n",
       "      <td>50.170000</td>\n",
       "      <td>40.230000</td>\n",
       "      <td>4.01000</td>\n",
       "      <td>5.050000</td>\n",
       "      <td>90.000000</td>\n",
       "      <td>2023.56000</td>\n",
       "      <td>10.004243</td>\n",
       "      <td>70.020021</td>\n",
       "      <td>0.300000</td>\n",
       "    </tr>\n",
       "    <tr>\n",
       "      <th>25%</th>\n",
       "      <td>17.890000</td>\n",
       "      <td>6.030000</td>\n",
       "      <td>20.295000</td>\n",
       "      <td>119.217500</td>\n",
       "      <td>51.865000</td>\n",
       "      <td>5.66750</td>\n",
       "      <td>14.945000</td>\n",
       "      <td>105.750000</td>\n",
       "      <td>2994.82000</td>\n",
       "      <td>16.263202</td>\n",
       "      <td>75.374713</td>\n",
       "      <td>0.447500</td>\n",
       "    </tr>\n",
       "    <tr>\n",
       "      <th>50%</th>\n",
       "      <td>25.855000</td>\n",
       "      <td>6.530000</td>\n",
       "      <td>24.655000</td>\n",
       "      <td>191.545000</td>\n",
       "      <td>65.685000</td>\n",
       "      <td>6.99500</td>\n",
       "      <td>25.980000</td>\n",
       "      <td>119.000000</td>\n",
       "      <td>4071.69000</td>\n",
       "      <td>21.981743</td>\n",
       "      <td>80.650284</td>\n",
       "      <td>0.610000</td>\n",
       "    </tr>\n",
       "    <tr>\n",
       "      <th>75%</th>\n",
       "      <td>36.022500</td>\n",
       "      <td>7.040000</td>\n",
       "      <td>29.090000</td>\n",
       "      <td>239.035000</td>\n",
       "      <td>77.995000</td>\n",
       "      <td>8.47000</td>\n",
       "      <td>38.005000</td>\n",
       "      <td>134.000000</td>\n",
       "      <td>5062.11000</td>\n",
       "      <td>28.528948</td>\n",
       "      <td>85.654629</td>\n",
       "      <td>0.750000</td>\n",
       "    </tr>\n",
       "    <tr>\n",
       "      <th>max</th>\n",
       "      <td>44.980000</td>\n",
       "      <td>7.500000</td>\n",
       "      <td>34.840000</td>\n",
       "      <td>298.960000</td>\n",
       "      <td>90.000000</td>\n",
       "      <td>10.00000</td>\n",
       "      <td>49.940000</td>\n",
       "      <td>150.000000</td>\n",
       "      <td>5998.29000</td>\n",
       "      <td>34.981531</td>\n",
       "      <td>89.991901</td>\n",
       "      <td>0.900000</td>\n",
       "    </tr>\n",
       "  </tbody>\n",
       "</table>\n",
       "</div>"
      ],
      "text/plain": [
       "       soil_moisture_%     soil_pH  temperature_C  rainfall_mm  humidity_%  \\\n",
       "count       500.000000  500.000000     500.000000   500.000000  500.000000   \n",
       "mean         26.750140    6.523980      24.675740   181.685740   65.194460   \n",
       "std          10.150053    0.585558       5.348899    72.293091   14.642849   \n",
       "min          10.160000    5.510000      15.000000    50.170000   40.230000   \n",
       "25%          17.890000    6.030000      20.295000   119.217500   51.865000   \n",
       "50%          25.855000    6.530000      24.655000   191.545000   65.685000   \n",
       "75%          36.022500    7.040000      29.090000   239.035000   77.995000   \n",
       "max          44.980000    7.500000      34.840000   298.960000   90.000000   \n",
       "\n",
       "       sunlight_hours  pesticide_usage_ml  total_days  yield_kg_per_hectare  \\\n",
       "count       500.00000          500.000000  500.000000             500.00000   \n",
       "mean          7.03014           26.586980  119.496000            4032.92694   \n",
       "std           1.69167           13.202429   16.798046            1174.43304   \n",
       "min           4.01000            5.050000   90.000000            2023.56000   \n",
       "25%           5.66750           14.945000  105.750000            2994.82000   \n",
       "50%           6.99500           25.980000  119.000000            4071.69000   \n",
       "75%           8.47000           38.005000  134.000000            5062.11000   \n",
       "max          10.00000           49.940000  150.000000            5998.29000   \n",
       "\n",
       "         latitude   longitude  NDVI_index  \n",
       "count  500.000000  500.000000  500.000000  \n",
       "mean    22.442473   80.392248    0.602060  \n",
       "std      7.283492    5.910664    0.175402  \n",
       "min     10.004243   70.020021    0.300000  \n",
       "25%     16.263202   75.374713    0.447500  \n",
       "50%     21.981743   80.650284    0.610000  \n",
       "75%     28.528948   85.654629    0.750000  \n",
       "max     34.981531   89.991901    0.900000  "
      ]
     },
     "execution_count": 18,
     "metadata": {},
     "output_type": "execute_result"
    }
   ],
   "source": [
    "dataset.describe()"
   ]
  },
  {
   "cell_type": "code",
   "execution_count": 19,
   "id": "709a9928-b598-4d3d-9e55-da290229c3c3",
   "metadata": {},
   "outputs": [
    {
     "data": {
      "text/plain": [
       "fertilizer_type\n",
       "Inorganic    167\n",
       "Mixed        167\n",
       "Organic      166\n",
       "Name: count, dtype: int64"
      ]
     },
     "execution_count": 19,
     "metadata": {},
     "output_type": "execute_result"
    }
   ],
   "source": [
    "dataset['fertilizer_type'].value_counts()"
   ]
  },
  {
   "cell_type": "code",
   "execution_count": 20,
   "id": "278584f9-bceb-4f30-97ef-8ecfb90a95ea",
   "metadata": {},
   "outputs": [
    {
     "name": "stdout",
     "output_type": "stream",
     "text": [
      "Organic => 14.745000000000001 : 36.7775\n",
      "Inorganic => 16.35 : 39.665\n",
      "Mixed => 13.765 : 37.385000000000005\n"
     ]
    }
   ],
   "source": [
    "for i in dataset['fertilizer_type'].unique():\n",
    "    min = dataset[dataset['fertilizer_type'] == i]['pesticide_usage_ml'].quantile(0.25)\n",
    "    max = dataset[dataset['fertilizer_type'] == i]['pesticide_usage_ml'].quantile(0.75)\n",
    "    print(i + \" => \"+ str(min) +\" : \"+ str(max))\n",
    "    cashes = dataset[(dataset['fertilizer_type'] == 'Inorganic') & (dataset['crop_disease_status'].isnull())]\n",
    "    for j in cashes['pesticide_usage_ml']:\n",
    "        if (j <= min):\n",
    "            dataset.loc[(dataset['pesticide_usage_ml'] <= j), 'crop_disease_status'] = 'Mild'\n",
    "        elif(min < j > max):\n",
    "             \n",
    "            dataset.loc[(dataset['pesticide_usage_ml'] <j) & (dataset['pesticide_usage_ml'] <j), 'crop_disease_status'] = 'Moderate'\n",
    "        else: \n",
    "            dataset.loc[(dataset['pesticide_usage_ml'] >= j), 'crop_disease_status'] = 'Severe'\n",
    "\n",
    " "
   ]
  },
  {
   "cell_type": "code",
   "execution_count": 21,
   "id": "696b0a99-af60-4808-b8a8-bb76470befff",
   "metadata": {},
   "outputs": [
    {
     "data": {
      "text/html": [
       "<div>\n",
       "<style scoped>\n",
       "    .dataframe tbody tr th:only-of-type {\n",
       "        vertical-align: middle;\n",
       "    }\n",
       "\n",
       "    .dataframe tbody tr th {\n",
       "        vertical-align: top;\n",
       "    }\n",
       "\n",
       "    .dataframe thead th {\n",
       "        text-align: right;\n",
       "    }\n",
       "</style>\n",
       "<table border=\"1\" class=\"dataframe\">\n",
       "  <thead>\n",
       "    <tr style=\"text-align: right;\">\n",
       "      <th></th>\n",
       "      <th>fertilizer_type</th>\n",
       "      <th>pesticide_usage_ml</th>\n",
       "      <th>crop_disease_status</th>\n",
       "    </tr>\n",
       "  </thead>\n",
       "  <tbody>\n",
       "  </tbody>\n",
       "</table>\n",
       "</div>"
      ],
      "text/plain": [
       "Empty DataFrame\n",
       "Columns: [fertilizer_type, pesticide_usage_ml, crop_disease_status]\n",
       "Index: []"
      ]
     },
     "execution_count": 21,
     "metadata": {},
     "output_type": "execute_result"
    }
   ],
   "source": [
    "dataset[dataset['crop_disease_status'].isnull()][['fertilizer_type', 'pesticide_usage_ml', 'crop_disease_status']]"
   ]
  },
  {
   "cell_type": "code",
   "execution_count": 22,
   "id": "80f7b901-820d-456e-aad5-6a5f6b16ed7b",
   "metadata": {},
   "outputs": [
    {
     "data": {
      "text/plain": [
       "array(['Mild', 'Moderate', 'Severe'], dtype=object)"
      ]
     },
     "execution_count": 22,
     "metadata": {},
     "output_type": "execute_result"
    }
   ],
   "source": [
    "dataset['crop_disease_status'].unique()"
   ]
  },
  {
   "cell_type": "code",
   "execution_count": 23,
   "id": "0260db7f-dadb-4ff3-8623-940c44a28730",
   "metadata": {},
   "outputs": [
    {
     "data": {
      "text/html": [
       "<div>\n",
       "<style scoped>\n",
       "    .dataframe tbody tr th:only-of-type {\n",
       "        vertical-align: middle;\n",
       "    }\n",
       "\n",
       "    .dataframe tbody tr th {\n",
       "        vertical-align: top;\n",
       "    }\n",
       "\n",
       "    .dataframe thead th {\n",
       "        text-align: right;\n",
       "    }\n",
       "</style>\n",
       "<table border=\"1\" class=\"dataframe\">\n",
       "  <thead>\n",
       "    <tr style=\"text-align: right;\">\n",
       "      <th></th>\n",
       "      <th>crop_disease_status</th>\n",
       "      <th>fertilizer_type</th>\n",
       "      <th>pesticide_usage_ml</th>\n",
       "    </tr>\n",
       "  </thead>\n",
       "  <tbody>\n",
       "    <tr>\n",
       "      <th>0</th>\n",
       "      <td>Mild</td>\n",
       "      <td>Organic</td>\n",
       "      <td>6.34</td>\n",
       "    </tr>\n",
       "    <tr>\n",
       "      <th>1</th>\n",
       "      <td>Moderate</td>\n",
       "      <td>Inorganic</td>\n",
       "      <td>9.60</td>\n",
       "    </tr>\n",
       "    <tr>\n",
       "      <th>2</th>\n",
       "      <td>Moderate</td>\n",
       "      <td>Mixed</td>\n",
       "      <td>15.26</td>\n",
       "    </tr>\n",
       "    <tr>\n",
       "      <th>3</th>\n",
       "      <td>Moderate</td>\n",
       "      <td>Organic</td>\n",
       "      <td>25.80</td>\n",
       "    </tr>\n",
       "    <tr>\n",
       "      <th>4</th>\n",
       "      <td>Moderate</td>\n",
       "      <td>Mixed</td>\n",
       "      <td>25.65</td>\n",
       "    </tr>\n",
       "    <tr>\n",
       "      <th>...</th>\n",
       "      <td>...</td>\n",
       "      <td>...</td>\n",
       "      <td>...</td>\n",
       "    </tr>\n",
       "    <tr>\n",
       "      <th>495</th>\n",
       "      <td>Moderate</td>\n",
       "      <td>Mixed</td>\n",
       "      <td>8.82</td>\n",
       "    </tr>\n",
       "    <tr>\n",
       "      <th>496</th>\n",
       "      <td>Mild</td>\n",
       "      <td>Organic</td>\n",
       "      <td>5.05</td>\n",
       "    </tr>\n",
       "    <tr>\n",
       "      <th>497</th>\n",
       "      <td>Severe</td>\n",
       "      <td>Inorganic</td>\n",
       "      <td>46.55</td>\n",
       "    </tr>\n",
       "    <tr>\n",
       "      <th>498</th>\n",
       "      <td>Moderate</td>\n",
       "      <td>Organic</td>\n",
       "      <td>43.78</td>\n",
       "    </tr>\n",
       "    <tr>\n",
       "      <th>499</th>\n",
       "      <td>Moderate</td>\n",
       "      <td>Inorganic</td>\n",
       "      <td>19.37</td>\n",
       "    </tr>\n",
       "  </tbody>\n",
       "</table>\n",
       "<p>500 rows × 3 columns</p>\n",
       "</div>"
      ],
      "text/plain": [
       "    crop_disease_status fertilizer_type  pesticide_usage_ml\n",
       "0                  Mild         Organic                6.34\n",
       "1              Moderate       Inorganic                9.60\n",
       "2              Moderate           Mixed               15.26\n",
       "3              Moderate         Organic               25.80\n",
       "4              Moderate           Mixed               25.65\n",
       "..                  ...             ...                 ...\n",
       "495            Moderate           Mixed                8.82\n",
       "496                Mild         Organic                5.05\n",
       "497              Severe       Inorganic               46.55\n",
       "498            Moderate         Organic               43.78\n",
       "499            Moderate       Inorganic               19.37\n",
       "\n",
       "[500 rows x 3 columns]"
      ]
     },
     "execution_count": 23,
     "metadata": {},
     "output_type": "execute_result"
    }
   ],
   "source": [
    "dataset[['crop_disease_status', 'fertilizer_type', 'pesticide_usage_ml']]"
   ]
  },
  {
   "cell_type": "code",
   "execution_count": 24,
   "id": "0ac0a22f-8257-4b1d-b820-ca84c4eb8ee6",
   "metadata": {},
   "outputs": [
    {
     "data": {
      "text/plain": [
       "Index(['soil_moisture_%', 'soil_pH', 'temperature_C', 'rainfall_mm',\n",
       "       'humidity_%', 'sunlight_hours', 'pesticide_usage_ml', 'total_days',\n",
       "       'yield_kg_per_hectare', 'latitude', 'longitude', 'NDVI_index'],\n",
       "      dtype='object')"
      ]
     },
     "execution_count": 24,
     "metadata": {},
     "output_type": "execute_result"
    }
   ],
   "source": [
    "dataset.describe().columns"
   ]
  },
  {
   "cell_type": "code",
   "execution_count": 25,
   "id": "7cef4054-a320-466e-9011-bd0d379ada38",
   "metadata": {},
   "outputs": [],
   "source": [
    "import seaborn as sns\n",
    "import matplotlib as plt\n"
   ]
  },
  {
   "cell_type": "code",
   "execution_count": 26,
   "id": "3af3114d-442f-4a43-a311-c66c84e36234",
   "metadata": {},
   "outputs": [
    {
     "data": {
      "text/plain": [
       "Index(['soil_moisture_%', 'soil_pH', 'temperature_C', 'rainfall_mm',\n",
       "       'humidity_%', 'sunlight_hours', 'pesticide_usage_ml', 'total_days',\n",
       "       'yield_kg_per_hectare', 'latitude', 'longitude', 'NDVI_index'],\n",
       "      dtype='object')"
      ]
     },
     "execution_count": 26,
     "metadata": {},
     "output_type": "execute_result"
    }
   ],
   "source": [
    "dataset.describe().columns"
   ]
  },
  {
   "cell_type": "code",
   "execution_count": 27,
   "id": "4b4ccd7e-5388-4a30-af27-e6296a126dd3",
   "metadata": {},
   "outputs": [
    {
     "name": "stdout",
     "output_type": "stream",
     "text": [
      "soil_moisture_% : mini :-9.30875 max :63.22125\n",
      "soil_pH : mini :4.515000000000001 max :8.555\n",
      "temperature_C : mini :7.1025000000000045 max :42.2825\n",
      "rainfall_mm : mini :-60.50874999999999 max :418.76125\n",
      "humidity_% : mini :12.670000000000002 max :117.18999999999998\n",
      "sunlight_hours : mini :1.46375 max :12.673750000000002\n",
      "pesticide_usage_ml : mini :-19.645000000000003 max :72.595\n",
      "total_days : mini :63.375 max :176.375\n",
      "yield_kg_per_hectare : mini :-106.11500000000024 max :8163.045\n",
      "latitude : mini :-2.135416000000003 max :46.927566\n",
      "longitude : mini :59.954837375000004 max :101.074504375\n",
      "NDVI_index : mini :-0.006249999999999978 max :1.2037499999999999\n"
     ]
    }
   ],
   "source": [
    "for i in dataset.describe().columns:\n",
    "    q1 = dataset[i].quantile(0.25)\n",
    "    q3 = dataset[i].quantile(0.75)\n",
    "    iqr = q3 - q1 \n",
    "    mini = q1 - (1.5*iqr)\n",
    "    maxi = q3 + (1.5*iqr)\n",
    "    no_outlier = dataset[(dataset[i]>=mini) & (dataset[i]<=maxi)]\n",
    "    print(i+\" : \"+ \"mini :\"+ str(mini) + \" max :\"+ str(maxi))"
   ]
  },
  {
   "cell_type": "code",
   "execution_count": 28,
   "id": "6593ccfa-756c-4cd3-b75f-e9f6a98a26f3",
   "metadata": {},
   "outputs": [],
   "source": [
    "from sklearn.preprocessing import LabelEncoder\n",
    "label_ecoder = LabelEncoder()\n",
    "encoded = label_ecoder.fit_transform(dataset['region'])"
   ]
  },
  {
   "cell_type": "code",
   "execution_count": 30,
   "id": "befc9710-60e5-4e93-9a5c-14b9bfe04602",
   "metadata": {},
   "outputs": [
    {
     "data": {
      "text/plain": [
       "np.int64(0)"
      ]
     },
     "execution_count": 30,
     "metadata": {},
     "output_type": "execute_result"
    }
   ],
   "source": [
    "dataset.duplicated().sum()"
   ]
  },
  {
   "cell_type": "code",
   "execution_count": 31,
   "id": "864c6e2a-a3f2-4b57-a9cb-b45ae3a3fd8d",
   "metadata": {},
   "outputs": [
    {
     "data": {
      "text/plain": [
       "0           Drip\n",
       "1      Sprinkler\n",
       "2           Drip\n",
       "3      Sprinkler\n",
       "4           Drip\n",
       "         ...    \n",
       "495       Manual\n",
       "496       Manual\n",
       "497         Drip\n",
       "498         Drip\n",
       "499         Drip\n",
       "Name: irrigation_type, Length: 500, dtype: object"
      ]
     },
     "execution_count": 31,
     "metadata": {},
     "output_type": "execute_result"
    }
   ],
   "source": [
    "dataset['irrigation_type']"
   ]
  },
  {
   "cell_type": "code",
   "execution_count": 34,
   "id": "e40f07ff-634b-4486-8a97-3eeba0a68a73",
   "metadata": {},
   "outputs": [
    {
     "data": {
      "text/plain": [
       "np.int64(0)"
      ]
     },
     "execution_count": 34,
     "metadata": {},
     "output_type": "execute_result"
    }
   ],
   "source": [
    "dataset['crop_disease_status'].isnull().sum()"
   ]
  },
  {
   "cell_type": "code",
   "execution_count": 35,
   "id": "051bcdf8-f405-4125-a132-204723f7d093",
   "metadata": {},
   "outputs": [],
   "source": [
    "nothing = dataset[['irrigation_type', 'region']]\n"
   ]
  },
  {
   "cell_type": "code",
   "execution_count": 36,
   "id": "c886893f-ed1b-4fae-8495-2779178bb0da",
   "metadata": {},
   "outputs": [
    {
     "name": "stdout",
     "output_type": "stream",
     "text": [
      "<class 'pandas.core.frame.DataFrame'>\n",
      "RangeIndex: 500 entries, 0 to 499\n",
      "Data columns (total 22 columns):\n",
      " #   Column                Non-Null Count  Dtype  \n",
      "---  ------                --------------  -----  \n",
      " 0   farm_id               500 non-null    object \n",
      " 1   region                500 non-null    object \n",
      " 2   crop_type             500 non-null    object \n",
      " 3   soil_moisture_%       500 non-null    float64\n",
      " 4   soil_pH               500 non-null    float64\n",
      " 5   temperature_C         500 non-null    float64\n",
      " 6   rainfall_mm           500 non-null    float64\n",
      " 7   humidity_%            500 non-null    float64\n",
      " 8   sunlight_hours        500 non-null    float64\n",
      " 9   irrigation_type       500 non-null    object \n",
      " 10  fertilizer_type       500 non-null    object \n",
      " 11  pesticide_usage_ml    500 non-null    float64\n",
      " 12  sowing_date           500 non-null    object \n",
      " 13  harvest_date          500 non-null    object \n",
      " 14  total_days            500 non-null    int64  \n",
      " 15  yield_kg_per_hectare  500 non-null    float64\n",
      " 16  sensor_id             500 non-null    object \n",
      " 17  timestamp             500 non-null    object \n",
      " 18  latitude              500 non-null    float64\n",
      " 19  longitude             500 non-null    float64\n",
      " 20  NDVI_index            500 non-null    float64\n",
      " 21  crop_disease_status   500 non-null    object \n",
      "dtypes: float64(11), int64(1), object(10)\n",
      "memory usage: 86.1+ KB\n"
     ]
    }
   ],
   "source": [
    "dataset.info()"
   ]
  },
  {
   "cell_type": "code",
   "execution_count": 37,
   "id": "6d221f03-4e2b-4beb-89df-64271bb3f756",
   "metadata": {},
   "outputs": [],
   "source": [
    "catagorical_data = dataset.select_dtypes('object')"
   ]
  },
  {
   "cell_type": "code",
   "execution_count": 38,
   "id": "46568120-65a6-4dda-aa93-332d3a64ccd0",
   "metadata": {},
   "outputs": [],
   "source": [
    "\n",
    "catagorical_data.drop(columns='timestamp', inplace=True)"
   ]
  },
  {
   "cell_type": "code",
   "execution_count": 39,
   "id": "441fa133-9aad-4824-9dc1-91096aadb9ce",
   "metadata": {},
   "outputs": [],
   "source": [
    "from sklearn.preprocessing import OneHotEncoder\n",
    "OHE_coder = OneHotEncoder() "
   ]
  },
  {
   "cell_type": "code",
   "execution_count": 40,
   "id": "51bf5dc3-b66e-45d3-990e-3c875f39845b",
   "metadata": {},
   "outputs": [
    {
     "data": {
      "text/plain": [
       "Index(['farm_id', 'region', 'crop_type', 'irrigation_type', 'fertilizer_type',\n",
       "       'sowing_date', 'harvest_date', 'sensor_id', 'crop_disease_status'],\n",
       "      dtype='object')"
      ]
     },
     "execution_count": 40,
     "metadata": {},
     "output_type": "execute_result"
    }
   ],
   "source": [
    "catagorical_data.columns "
   ]
  },
  {
   "cell_type": "code",
   "execution_count": 41,
   "id": "2c1be1b5-bc9a-4a3e-81b1-086c8d9d3ef6",
   "metadata": {},
   "outputs": [],
   "source": [
    "catagorical_data.drop(columns='sensor_id', inplace=True)"
   ]
  },
  {
   "cell_type": "code",
   "execution_count": 42,
   "id": "95d8f268-4492-4ca8-be1c-78675be33dc2",
   "metadata": {},
   "outputs": [],
   "source": [
    "catagorical_data.drop(columns='farm_id', inplace=True)"
   ]
  },
  {
   "cell_type": "code",
   "execution_count": 43,
   "id": "b6c79144-0da2-4f25-8d18-c99de55ea090",
   "metadata": {},
   "outputs": [
    {
     "data": {
      "text/html": [
       "<div>\n",
       "<style scoped>\n",
       "    .dataframe tbody tr th:only-of-type {\n",
       "        vertical-align: middle;\n",
       "    }\n",
       "\n",
       "    .dataframe tbody tr th {\n",
       "        vertical-align: top;\n",
       "    }\n",
       "\n",
       "    .dataframe thead th {\n",
       "        text-align: right;\n",
       "    }\n",
       "</style>\n",
       "<table border=\"1\" class=\"dataframe\">\n",
       "  <thead>\n",
       "    <tr style=\"text-align: right;\">\n",
       "      <th></th>\n",
       "      <th>region</th>\n",
       "      <th>crop_type</th>\n",
       "      <th>irrigation_type</th>\n",
       "      <th>fertilizer_type</th>\n",
       "      <th>sowing_date</th>\n",
       "      <th>harvest_date</th>\n",
       "      <th>crop_disease_status</th>\n",
       "    </tr>\n",
       "  </thead>\n",
       "  <tbody>\n",
       "    <tr>\n",
       "      <th>0</th>\n",
       "      <td>North India</td>\n",
       "      <td>Wheat</td>\n",
       "      <td>Drip</td>\n",
       "      <td>Organic</td>\n",
       "      <td>2024-01-08</td>\n",
       "      <td>2024-05-09</td>\n",
       "      <td>Mild</td>\n",
       "    </tr>\n",
       "    <tr>\n",
       "      <th>1</th>\n",
       "      <td>South USA</td>\n",
       "      <td>Soybean</td>\n",
       "      <td>Sprinkler</td>\n",
       "      <td>Inorganic</td>\n",
       "      <td>2024-02-04</td>\n",
       "      <td>2024-05-26</td>\n",
       "      <td>Moderate</td>\n",
       "    </tr>\n",
       "    <tr>\n",
       "      <th>2</th>\n",
       "      <td>South USA</td>\n",
       "      <td>Wheat</td>\n",
       "      <td>Drip</td>\n",
       "      <td>Mixed</td>\n",
       "      <td>2024-02-03</td>\n",
       "      <td>2024-06-26</td>\n",
       "      <td>Moderate</td>\n",
       "    </tr>\n",
       "    <tr>\n",
       "      <th>3</th>\n",
       "      <td>Central USA</td>\n",
       "      <td>Maize</td>\n",
       "      <td>Sprinkler</td>\n",
       "      <td>Organic</td>\n",
       "      <td>2024-02-21</td>\n",
       "      <td>2024-07-04</td>\n",
       "      <td>Moderate</td>\n",
       "    </tr>\n",
       "    <tr>\n",
       "      <th>4</th>\n",
       "      <td>Central USA</td>\n",
       "      <td>Cotton</td>\n",
       "      <td>Drip</td>\n",
       "      <td>Mixed</td>\n",
       "      <td>2024-02-05</td>\n",
       "      <td>2024-05-20</td>\n",
       "      <td>Moderate</td>\n",
       "    </tr>\n",
       "    <tr>\n",
       "      <th>...</th>\n",
       "      <td>...</td>\n",
       "      <td>...</td>\n",
       "      <td>...</td>\n",
       "      <td>...</td>\n",
       "      <td>...</td>\n",
       "      <td>...</td>\n",
       "      <td>...</td>\n",
       "    </tr>\n",
       "    <tr>\n",
       "      <th>495</th>\n",
       "      <td>Central USA</td>\n",
       "      <td>Rice</td>\n",
       "      <td>Manual</td>\n",
       "      <td>Mixed</td>\n",
       "      <td>2024-01-16</td>\n",
       "      <td>2024-06-02</td>\n",
       "      <td>Moderate</td>\n",
       "    </tr>\n",
       "    <tr>\n",
       "      <th>496</th>\n",
       "      <td>North India</td>\n",
       "      <td>Soybean</td>\n",
       "      <td>Manual</td>\n",
       "      <td>Organic</td>\n",
       "      <td>2024-01-01</td>\n",
       "      <td>2024-04-14</td>\n",
       "      <td>Mild</td>\n",
       "    </tr>\n",
       "    <tr>\n",
       "      <th>497</th>\n",
       "      <td>North India</td>\n",
       "      <td>Cotton</td>\n",
       "      <td>Drip</td>\n",
       "      <td>Inorganic</td>\n",
       "      <td>2024-01-02</td>\n",
       "      <td>2024-05-09</td>\n",
       "      <td>Severe</td>\n",
       "    </tr>\n",
       "    <tr>\n",
       "      <th>498</th>\n",
       "      <td>Central USA</td>\n",
       "      <td>Soybean</td>\n",
       "      <td>Drip</td>\n",
       "      <td>Organic</td>\n",
       "      <td>2024-01-25</td>\n",
       "      <td>2024-06-04</td>\n",
       "      <td>Moderate</td>\n",
       "    </tr>\n",
       "    <tr>\n",
       "      <th>499</th>\n",
       "      <td>North India</td>\n",
       "      <td>Wheat</td>\n",
       "      <td>Drip</td>\n",
       "      <td>Inorganic</td>\n",
       "      <td>2024-02-16</td>\n",
       "      <td>2024-06-29</td>\n",
       "      <td>Moderate</td>\n",
       "    </tr>\n",
       "  </tbody>\n",
       "</table>\n",
       "<p>500 rows × 7 columns</p>\n",
       "</div>"
      ],
      "text/plain": [
       "          region crop_type irrigation_type fertilizer_type sowing_date  \\\n",
       "0    North India     Wheat            Drip         Organic  2024-01-08   \n",
       "1      South USA   Soybean       Sprinkler       Inorganic  2024-02-04   \n",
       "2      South USA     Wheat            Drip           Mixed  2024-02-03   \n",
       "3    Central USA     Maize       Sprinkler         Organic  2024-02-21   \n",
       "4    Central USA    Cotton            Drip           Mixed  2024-02-05   \n",
       "..           ...       ...             ...             ...         ...   \n",
       "495  Central USA      Rice          Manual           Mixed  2024-01-16   \n",
       "496  North India   Soybean          Manual         Organic  2024-01-01   \n",
       "497  North India    Cotton            Drip       Inorganic  2024-01-02   \n",
       "498  Central USA   Soybean            Drip         Organic  2024-01-25   \n",
       "499  North India     Wheat            Drip       Inorganic  2024-02-16   \n",
       "\n",
       "    harvest_date crop_disease_status  \n",
       "0     2024-05-09                Mild  \n",
       "1     2024-05-26            Moderate  \n",
       "2     2024-06-26            Moderate  \n",
       "3     2024-07-04            Moderate  \n",
       "4     2024-05-20            Moderate  \n",
       "..           ...                 ...  \n",
       "495   2024-06-02            Moderate  \n",
       "496   2024-04-14                Mild  \n",
       "497   2024-05-09              Severe  \n",
       "498   2024-06-04            Moderate  \n",
       "499   2024-06-29            Moderate  \n",
       "\n",
       "[500 rows x 7 columns]"
      ]
     },
     "execution_count": 43,
     "metadata": {},
     "output_type": "execute_result"
    }
   ],
   "source": [
    "catagorical_data"
   ]
  },
  {
   "cell_type": "code",
   "execution_count": 44,
   "id": "d85be234-ed19-4c6b-af9b-425612676911",
   "metadata": {},
   "outputs": [
    {
     "name": "stdout",
     "output_type": "stream",
     "text": [
      "region\n",
      "crop_type\n",
      "irrigation_type\n",
      "fertilizer_type\n",
      "sowing_date\n",
      "harvest_date\n",
      "crop_disease_status\n"
     ]
    }
   ],
   "source": [
    "for i in catagorical_data.columns:\n",
    "    print(i)"
   ]
  },
  {
   "cell_type": "code",
   "execution_count": 45,
   "id": "5d50a3c1-ee93-4772-bc42-701b02924a0a",
   "metadata": {},
   "outputs": [],
   "source": [
    "catagorical_data.drop(columns='crop_disease_status', inplace=True)"
   ]
  },
  {
   "cell_type": "code",
   "execution_count": 46,
   "id": "d250e5a0-8db2-42fd-bdcc-ceac337c5933",
   "metadata": {},
   "outputs": [],
   "source": [
    "catagorical_data.drop(columns='sowing_date', inplace=True)"
   ]
  },
  {
   "cell_type": "code",
   "execution_count": 47,
   "id": "fff38dbf-c0ff-4064-9bc9-e0609e7e27dc",
   "metadata": {},
   "outputs": [],
   "source": [
    "catagorical_data.drop(columns='harvest_date', inplace=True)"
   ]
  },
  {
   "cell_type": "code",
   "execution_count": 48,
   "id": "693ec9bd-6474-4cf9-8490-1cd16bb5e0d1",
   "metadata": {},
   "outputs": [
    {
     "data": {
      "text/html": [
       "<div>\n",
       "<style scoped>\n",
       "    .dataframe tbody tr th:only-of-type {\n",
       "        vertical-align: middle;\n",
       "    }\n",
       "\n",
       "    .dataframe tbody tr th {\n",
       "        vertical-align: top;\n",
       "    }\n",
       "\n",
       "    .dataframe thead th {\n",
       "        text-align: right;\n",
       "    }\n",
       "</style>\n",
       "<table border=\"1\" class=\"dataframe\">\n",
       "  <thead>\n",
       "    <tr style=\"text-align: right;\">\n",
       "      <th></th>\n",
       "      <th>region</th>\n",
       "      <th>crop_type</th>\n",
       "      <th>irrigation_type</th>\n",
       "      <th>fertilizer_type</th>\n",
       "    </tr>\n",
       "  </thead>\n",
       "  <tbody>\n",
       "    <tr>\n",
       "      <th>0</th>\n",
       "      <td>North India</td>\n",
       "      <td>Wheat</td>\n",
       "      <td>Drip</td>\n",
       "      <td>Organic</td>\n",
       "    </tr>\n",
       "    <tr>\n",
       "      <th>1</th>\n",
       "      <td>South USA</td>\n",
       "      <td>Soybean</td>\n",
       "      <td>Sprinkler</td>\n",
       "      <td>Inorganic</td>\n",
       "    </tr>\n",
       "    <tr>\n",
       "      <th>2</th>\n",
       "      <td>South USA</td>\n",
       "      <td>Wheat</td>\n",
       "      <td>Drip</td>\n",
       "      <td>Mixed</td>\n",
       "    </tr>\n",
       "    <tr>\n",
       "      <th>3</th>\n",
       "      <td>Central USA</td>\n",
       "      <td>Maize</td>\n",
       "      <td>Sprinkler</td>\n",
       "      <td>Organic</td>\n",
       "    </tr>\n",
       "    <tr>\n",
       "      <th>4</th>\n",
       "      <td>Central USA</td>\n",
       "      <td>Cotton</td>\n",
       "      <td>Drip</td>\n",
       "      <td>Mixed</td>\n",
       "    </tr>\n",
       "    <tr>\n",
       "      <th>...</th>\n",
       "      <td>...</td>\n",
       "      <td>...</td>\n",
       "      <td>...</td>\n",
       "      <td>...</td>\n",
       "    </tr>\n",
       "    <tr>\n",
       "      <th>495</th>\n",
       "      <td>Central USA</td>\n",
       "      <td>Rice</td>\n",
       "      <td>Manual</td>\n",
       "      <td>Mixed</td>\n",
       "    </tr>\n",
       "    <tr>\n",
       "      <th>496</th>\n",
       "      <td>North India</td>\n",
       "      <td>Soybean</td>\n",
       "      <td>Manual</td>\n",
       "      <td>Organic</td>\n",
       "    </tr>\n",
       "    <tr>\n",
       "      <th>497</th>\n",
       "      <td>North India</td>\n",
       "      <td>Cotton</td>\n",
       "      <td>Drip</td>\n",
       "      <td>Inorganic</td>\n",
       "    </tr>\n",
       "    <tr>\n",
       "      <th>498</th>\n",
       "      <td>Central USA</td>\n",
       "      <td>Soybean</td>\n",
       "      <td>Drip</td>\n",
       "      <td>Organic</td>\n",
       "    </tr>\n",
       "    <tr>\n",
       "      <th>499</th>\n",
       "      <td>North India</td>\n",
       "      <td>Wheat</td>\n",
       "      <td>Drip</td>\n",
       "      <td>Inorganic</td>\n",
       "    </tr>\n",
       "  </tbody>\n",
       "</table>\n",
       "<p>500 rows × 4 columns</p>\n",
       "</div>"
      ],
      "text/plain": [
       "          region crop_type irrigation_type fertilizer_type\n",
       "0    North India     Wheat            Drip         Organic\n",
       "1      South USA   Soybean       Sprinkler       Inorganic\n",
       "2      South USA     Wheat            Drip           Mixed\n",
       "3    Central USA     Maize       Sprinkler         Organic\n",
       "4    Central USA    Cotton            Drip           Mixed\n",
       "..           ...       ...             ...             ...\n",
       "495  Central USA      Rice          Manual           Mixed\n",
       "496  North India   Soybean          Manual         Organic\n",
       "497  North India    Cotton            Drip       Inorganic\n",
       "498  Central USA   Soybean            Drip         Organic\n",
       "499  North India     Wheat            Drip       Inorganic\n",
       "\n",
       "[500 rows x 4 columns]"
      ]
     },
     "execution_count": 48,
     "metadata": {},
     "output_type": "execute_result"
    }
   ],
   "source": [
    "catagorical_data"
   ]
  },
  {
   "cell_type": "code",
   "execution_count": 49,
   "id": "616452b8-c098-467a-ab26-7aec008660ac",
   "metadata": {},
   "outputs": [
    {
     "name": "stdout",
     "output_type": "stream",
     "text": [
      "region\n",
      "crop_type\n",
      "irrigation_type\n",
      "fertilizer_type\n"
     ]
    }
   ],
   "source": [
    "from sklearn.preprocessing import OneHotEncoder \n",
    "for i in catagorical_data.columns:\n",
    "    en_data = dataset[[i]]\n",
    "    print(i)\n",
    "    OHE_coder = OneHotEncoder(sparse_output=True)\n",
    "    OHe_encoded = OHE_coder.fit_transform(en_data)\n",
    "\n",
    "    encoded_col_names = OHE_coder.get_feature_names_out([i])\n",
    "    re_cases = pd.DataFrame((OHe_encoded).toarray(), columns= encoded_col_names)\n",
    "    dataset = pd.concat([dataset,re_cases], axis=1)\n"
   ]
  },
  {
   "cell_type": "code",
   "execution_count": 50,
   "id": "24cddeb3-fe21-49fd-bd63-f0f63199af82",
   "metadata": {},
   "outputs": [
    {
     "name": "stdout",
     "output_type": "stream",
     "text": [
      "region\n",
      "crop_type\n",
      "irrigation_type\n",
      "fertilizer_type\n"
     ]
    }
   ],
   "source": [
    "for i in catagorical_data.columns:\n",
    "    print(i)"
   ]
  },
  {
   "cell_type": "code",
   "execution_count": 51,
   "id": "a2d15f8a-62b9-45a6-ab70-59393eaed49f",
   "metadata": {},
   "outputs": [],
   "source": [
    "from sklearn.preprocessing import OrdinalEncoder\n",
    "ranks = [['Mild', 'Moderate', 'Severe' ]]\n",
    "O_encoder = OrdinalEncoder(categories=ranks)\n",
    "o_encoded = O_encoder.fit_transform(dataset[['crop_disease_status']])\n",
    "dataset['ecoded_crop_disease_status'] = o_encoded"
   ]
  },
  {
   "cell_type": "code",
   "execution_count": 52,
   "id": "ecbc0c8b-39d6-43a7-84e3-d60cb4a23e3a",
   "metadata": {},
   "outputs": [
    {
     "data": {
      "text/html": [
       "<div>\n",
       "<style scoped>\n",
       "    .dataframe tbody tr th:only-of-type {\n",
       "        vertical-align: middle;\n",
       "    }\n",
       "\n",
       "    .dataframe tbody tr th {\n",
       "        vertical-align: top;\n",
       "    }\n",
       "\n",
       "    .dataframe thead th {\n",
       "        text-align: right;\n",
       "    }\n",
       "</style>\n",
       "<table border=\"1\" class=\"dataframe\">\n",
       "  <thead>\n",
       "    <tr style=\"text-align: right;\">\n",
       "      <th></th>\n",
       "      <th>ecoded_crop_disease_status</th>\n",
       "      <th>crop_disease_status</th>\n",
       "    </tr>\n",
       "  </thead>\n",
       "  <tbody>\n",
       "    <tr>\n",
       "      <th>0</th>\n",
       "      <td>0.0</td>\n",
       "      <td>Mild</td>\n",
       "    </tr>\n",
       "    <tr>\n",
       "      <th>1</th>\n",
       "      <td>1.0</td>\n",
       "      <td>Moderate</td>\n",
       "    </tr>\n",
       "    <tr>\n",
       "      <th>2</th>\n",
       "      <td>1.0</td>\n",
       "      <td>Moderate</td>\n",
       "    </tr>\n",
       "    <tr>\n",
       "      <th>3</th>\n",
       "      <td>1.0</td>\n",
       "      <td>Moderate</td>\n",
       "    </tr>\n",
       "    <tr>\n",
       "      <th>4</th>\n",
       "      <td>1.0</td>\n",
       "      <td>Moderate</td>\n",
       "    </tr>\n",
       "    <tr>\n",
       "      <th>...</th>\n",
       "      <td>...</td>\n",
       "      <td>...</td>\n",
       "    </tr>\n",
       "    <tr>\n",
       "      <th>495</th>\n",
       "      <td>1.0</td>\n",
       "      <td>Moderate</td>\n",
       "    </tr>\n",
       "    <tr>\n",
       "      <th>496</th>\n",
       "      <td>0.0</td>\n",
       "      <td>Mild</td>\n",
       "    </tr>\n",
       "    <tr>\n",
       "      <th>497</th>\n",
       "      <td>2.0</td>\n",
       "      <td>Severe</td>\n",
       "    </tr>\n",
       "    <tr>\n",
       "      <th>498</th>\n",
       "      <td>1.0</td>\n",
       "      <td>Moderate</td>\n",
       "    </tr>\n",
       "    <tr>\n",
       "      <th>499</th>\n",
       "      <td>1.0</td>\n",
       "      <td>Moderate</td>\n",
       "    </tr>\n",
       "  </tbody>\n",
       "</table>\n",
       "<p>500 rows × 2 columns</p>\n",
       "</div>"
      ],
      "text/plain": [
       "     ecoded_crop_disease_status crop_disease_status\n",
       "0                           0.0                Mild\n",
       "1                           1.0            Moderate\n",
       "2                           1.0            Moderate\n",
       "3                           1.0            Moderate\n",
       "4                           1.0            Moderate\n",
       "..                          ...                 ...\n",
       "495                         1.0            Moderate\n",
       "496                         0.0                Mild\n",
       "497                         2.0              Severe\n",
       "498                         1.0            Moderate\n",
       "499                         1.0            Moderate\n",
       "\n",
       "[500 rows x 2 columns]"
      ]
     },
     "execution_count": 52,
     "metadata": {},
     "output_type": "execute_result"
    }
   ],
   "source": [
    "dataset[['ecoded_crop_disease_status', 'crop_disease_status']]"
   ]
  },
  {
   "cell_type": "code",
   "execution_count": 53,
   "id": "cb9232f9-f5ca-427a-87af-c22d1ec9554f",
   "metadata": {},
   "outputs": [
    {
     "data": {
      "text/plain": [
       "Index(['farm_id', 'region', 'crop_type', 'soil_moisture_%', 'soil_pH',\n",
       "       'temperature_C', 'rainfall_mm', 'humidity_%', 'sunlight_hours',\n",
       "       'irrigation_type', 'fertilizer_type', 'pesticide_usage_ml',\n",
       "       'sowing_date', 'harvest_date', 'total_days', 'yield_kg_per_hectare',\n",
       "       'sensor_id', 'timestamp', 'latitude', 'longitude', 'NDVI_index',\n",
       "       'crop_disease_status', 'region_Central USA', 'region_East Africa',\n",
       "       'region_North India', 'region_South India', 'region_South USA',\n",
       "       'crop_type_Cotton', 'crop_type_Maize', 'crop_type_Rice',\n",
       "       'crop_type_Soybean', 'crop_type_Wheat', 'irrigation_type_Drip',\n",
       "       'irrigation_type_Manual', 'irrigation_type_Sprinkler',\n",
       "       'fertilizer_type_Inorganic', 'fertilizer_type_Mixed',\n",
       "       'fertilizer_type_Organic', 'ecoded_crop_disease_status'],\n",
       "      dtype='object')"
      ]
     },
     "execution_count": 53,
     "metadata": {},
     "output_type": "execute_result"
    }
   ],
   "source": [
    "dataset.columns"
   ]
  },
  {
   "cell_type": "code",
   "execution_count": 54,
   "id": "098754db-c515-4ae0-bdcd-622bc7bb8a71",
   "metadata": {},
   "outputs": [],
   "source": [
    "cases = pd.to_datetime(dataset['sowing_date'])\n",
    "dataset['sowing_date_year'] = cases.dt.year\n",
    "dataset['sowing_date_month'] = cases.dt.month\n",
    "dataset['sowing_date_day'] = cases.dt.day"
   ]
  },
  {
   "cell_type": "code",
   "execution_count": 55,
   "id": "37880b42-4756-4a33-bf50-391cb3eed915",
   "metadata": {},
   "outputs": [],
   "source": [
    "cases = pd.to_datetime(dataset['harvest_date'])\n",
    "dataset['harvest_date_year'] = cases.dt.year\n",
    "dataset['harvest_date_month'] = cases.dt.month\n",
    "dataset['harvest_date_day'] = cases.dt.day"
   ]
  },
  {
   "cell_type": "code",
   "execution_count": 56,
   "id": "8e6422c2-2e73-41f2-80d9-1cf59b83c076",
   "metadata": {},
   "outputs": [
    {
     "data": {
      "text/html": [
       "<div>\n",
       "<style scoped>\n",
       "    .dataframe tbody tr th:only-of-type {\n",
       "        vertical-align: middle;\n",
       "    }\n",
       "\n",
       "    .dataframe tbody tr th {\n",
       "        vertical-align: top;\n",
       "    }\n",
       "\n",
       "    .dataframe thead th {\n",
       "        text-align: right;\n",
       "    }\n",
       "</style>\n",
       "<table border=\"1\" class=\"dataframe\">\n",
       "  <thead>\n",
       "    <tr style=\"text-align: right;\">\n",
       "      <th></th>\n",
       "      <th>yield_kg_per_hectare</th>\n",
       "    </tr>\n",
       "  </thead>\n",
       "  <tbody>\n",
       "    <tr>\n",
       "      <th>0</th>\n",
       "      <td>4408.07</td>\n",
       "    </tr>\n",
       "    <tr>\n",
       "      <th>1</th>\n",
       "      <td>5389.98</td>\n",
       "    </tr>\n",
       "    <tr>\n",
       "      <th>2</th>\n",
       "      <td>2931.16</td>\n",
       "    </tr>\n",
       "    <tr>\n",
       "      <th>3</th>\n",
       "      <td>4227.80</td>\n",
       "    </tr>\n",
       "    <tr>\n",
       "      <th>4</th>\n",
       "      <td>4979.96</td>\n",
       "    </tr>\n",
       "    <tr>\n",
       "      <th>...</th>\n",
       "      <td>...</td>\n",
       "    </tr>\n",
       "    <tr>\n",
       "      <th>495</th>\n",
       "      <td>4251.40</td>\n",
       "    </tr>\n",
       "    <tr>\n",
       "      <th>496</th>\n",
       "      <td>3708.54</td>\n",
       "    </tr>\n",
       "    <tr>\n",
       "      <th>497</th>\n",
       "      <td>2604.41</td>\n",
       "    </tr>\n",
       "    <tr>\n",
       "      <th>498</th>\n",
       "      <td>2586.36</td>\n",
       "    </tr>\n",
       "    <tr>\n",
       "      <th>499</th>\n",
       "      <td>5891.40</td>\n",
       "    </tr>\n",
       "  </tbody>\n",
       "</table>\n",
       "<p>500 rows × 1 columns</p>\n",
       "</div>"
      ],
      "text/plain": [
       "     yield_kg_per_hectare\n",
       "0                 4408.07\n",
       "1                 5389.98\n",
       "2                 2931.16\n",
       "3                 4227.80\n",
       "4                 4979.96\n",
       "..                    ...\n",
       "495               4251.40\n",
       "496               3708.54\n",
       "497               2604.41\n",
       "498               2586.36\n",
       "499               5891.40\n",
       "\n",
       "[500 rows x 1 columns]"
      ]
     },
     "execution_count": 56,
     "metadata": {},
     "output_type": "execute_result"
    }
   ],
   "source": [
    "y = dataset[['yield_kg_per_hectare']]\n",
    "y"
   ]
  },
  {
   "cell_type": "code",
   "execution_count": 57,
   "id": "4a548618-2715-46ed-820c-a319d77d1b13",
   "metadata": {},
   "outputs": [],
   "source": [
    "x2 = dataset['temperature_C']"
   ]
  },
  {
   "cell_type": "code",
   "execution_count": 58,
   "id": "57fa63f1-988b-45db-9bdb-bf8e16effa15",
   "metadata": {},
   "outputs": [],
   "source": [
    "x1 = dataset[['region_Central USA', 'region_East Africa', 'region_North India', 'region_South India', 'region_South USA']]"
   ]
  },
  {
   "cell_type": "code",
   "execution_count": 59,
   "id": "a8f5775b-7fd1-4fc7-9f24-81816060931a",
   "metadata": {},
   "outputs": [],
   "source": [
    "x3 = dataset[['irrigation_type_Drip', 'irrigation_type_Manual', 'irrigation_type_Sprinkler']]\n"
   ]
  },
  {
   "cell_type": "code",
   "execution_count": 60,
   "id": "17388210-30f6-4bb1-8bd8-436f65e943c4",
   "metadata": {},
   "outputs": [],
   "source": [
    "x4 = dataset[['fertilizer_type_Inorganic', 'fertilizer_type_Mixed', 'fertilizer_type_Organic']]"
   ]
  },
  {
   "cell_type": "code",
   "execution_count": 61,
   "id": "58e6dd2d-807c-4c9b-a6a4-a386847e73b5",
   "metadata": {},
   "outputs": [],
   "source": [
    "x5 = dataset[['crop_type_Cotton', 'crop_type_Maize', 'crop_type_Rice', 'crop_type_Soybean', 'crop_type_Wheat']]"
   ]
  },
  {
   "cell_type": "code",
   "execution_count": 62,
   "id": "c68d9e4e-7038-4034-8070-dcd5fa4a3ea1",
   "metadata": {},
   "outputs": [
    {
     "data": {
      "text/plain": [
       "yield_kg_per_hectare    1.000000\n",
       "crop_type_Maize        -0.022935\n",
       "Name: yield_kg_per_hectare, dtype: float64"
      ]
     },
     "execution_count": 62,
     "metadata": {},
     "output_type": "execute_result"
    }
   ],
   "source": [
    "combine = pd.concat([dataset['crop_type_Maize'],y],axis=1)\n",
    "correlation = combine.corr()\n",
    "plot = correlation['yield_kg_per_hectare']\n",
    "plot.sort_values(ascending=False)\n"
   ]
  },
  {
   "cell_type": "code",
   "execution_count": 63,
   "id": "da97a3eb-1fed-4191-9f9b-0328319a1424",
   "metadata": {},
   "outputs": [],
   "source": [
    "from sklearn.model_selection import train_test_split\n",
    "x = pd.concat([x1,x2,x3,x4,x5,dataset['total_days'],dataset['rainfall_mm'],dataset['pesticide_usage_ml'],dataset['humidity_%'],dataset['soil_pH']],axis=1)"
   ]
  },
  {
   "cell_type": "code",
   "execution_count": 64,
   "id": "5442d2f4-e135-412b-a13d-182a8b7ca293",
   "metadata": {},
   "outputs": [],
   "source": [
    "x_train,x_test,y_train,y_test = train_test_split(x,y,test_size=0.2,random_state=42)"
   ]
  },
  {
   "cell_type": "code",
   "execution_count": null,
   "id": "62710da9-6c04-42e8-a71b-43a2df957d16",
   "metadata": {},
   "outputs": [],
   "source": [
    " "
   ]
  },
  {
   "cell_type": "code",
   "execution_count": 77,
   "id": "7ef86d89-caa6-495e-ad49-82ab960c5cf2",
   "metadata": {},
   "outputs": [
    {
     "data": {
      "image/png": "[encoded data removed]",
      "text/plain": [
       "<Figure size 2000x2000 with 36 Axes>"
      ]
     },
     "metadata": {},
     "output_type": "display_data"
    }
   ],
   "source": [
    "dataset.hist(figsize=(20,20))\n",
    "plt.show()\n"
   ]
  },
  {
   "cell_type": "code",
   "execution_count": 105,
   "id": "143276c1-4455-4f71-b52e-1e141f350b80",
   "metadata": {},
   "outputs": [
    {
     "data": {
      "image/png": "[encoded data removed]",
      "text/plain": [
       "<Figure size 640x480 with 1 Axes>"
      ]
     },
     "metadata": {},
     "output_type": "display_data"
    }
   ],
   "source": [
    "sns.histplot(x=dataset['crop_type'], y=dataset['crop_disease_status'])\n",
    "plt.show()"
   ]
  },
  {
   "cell_type": "code",
   "execution_count": 129,
   "id": "d4d2cccf-b60e-4db3-bdd3-9db5ffe662bb",
   "metadata": {},
   "outputs": [],
   "source": [
    "combine = pd.concat([dataset['crop_type_Soybean'],no_outlier['yield_kg_per_hectare']],axis=1)"
   ]
  },
  {
   "cell_type": "code",
   "execution_count": 133,
   "id": "24659467-e192-4bf4-83c7-f16237adffb9",
   "metadata": {},
   "outputs": [
    {
     "data": {
      "text/plain": [
       "crop_type_Soybean       0.100162\n",
       "yield_kg_per_hectare    1.000000\n",
       "Name: yield_kg_per_hectare, dtype: float64"
      ]
     },
     "execution_count": 133,
     "metadata": {},
     "output_type": "execute_result"
    }
   ],
   "source": [
    "combine.corr()['yield_kg_per_hectare']"
   ]
  },
  {
   "cell_type": "code",
   "execution_count": null,
   "id": "ddf3d316-0833-41df-be85-50b3f2f92312",
   "metadata": {},
   "outputs": [],
   "source": []
  }
 ],
 "metadata": {
  "kernelspec": {
   "display_name": "Python 3 (ipykernel)",
   "language": "python",
   "name": "python3"
  },
  "language_info": {
   "codemirror_mode": {
    "name": "ipython",
    "version": 3
   },
   "file_extension": ".py",
   "mimetype": "text/x-python",
   "name": "python",
   "nbconvert_exporter": "python",
   "pygments_lexer": "ipython3",
   "version": "3.12.2"
  }
 },
 "nbformat": 4,
 "nbformat_minor": 5
}
